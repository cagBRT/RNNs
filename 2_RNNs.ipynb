{
  "nbformat": 4,
  "nbformat_minor": 0,
  "metadata": {
    "colab": {
      "name": "2. RNNs.ipynb",
      "provenance": [],
      "collapsed_sections": [],
      "authorship_tag": "ABX9TyNe0v3ePDYhGyiY2huvapYG",
      "include_colab_link": true
    },
    "kernelspec": {
      "name": "python3",
      "display_name": "Python 3"
    },
    "language_info": {
      "name": "python"
    }
  },
  "cells": [
    {
      "cell_type": "markdown",
      "metadata": {
        "id": "view-in-github",
        "colab_type": "text"
      },
      "source": [
        "<a href=\"https://colab.research.google.com/github/cagBRT/RNNs/blob/main/2_RNNs.ipynb\" target=\"_parent\"><img src=\"https://colab.research.google.com/assets/colab-badge.svg\" alt=\"Open In Colab\"/></a>"
      ]
    },
    {
      "cell_type": "markdown",
      "metadata": {
        "id": "eaQUi5KS5Gsm"
      },
      "source": [
        "Backpropagation through time\n",
        "https://machinelearningmastery.com/gentle-introduction-backpropagation-time/"
      ]
    },
    {
      "cell_type": "markdown",
      "metadata": {
        "id": "2Vfpgo0h5TAO"
      },
      "source": [
        "Backpropagation refers to two things:<br>\n",
        "\n",
        "The mathematical method used to calculate derivatives and an application of the derivative chain rule.<br>\n",
        "The training algorithm for updating network weights to minimize error."
      ]
    },
    {
      "cell_type": "markdown",
      "metadata": {
        "id": "I1l8IAXN5coy"
      },
      "source": [
        "The goal of the backpropagation training algorithm is to modify the weights of a neural network in order to minimize the error of the network outputs compared to some expected output in response to corresponding inputs.<br>\n",
        "\n",
        "It is a supervised learning algorithm that allows the network to be corrected with regard to the specific errors made.<br>\n",
        "\n",
        "The general algorithm is as follows:<br>\n",
        "\n",
        "Present a training input pattern and propagate it through the network to get an output.<br>\n",
        "Compare the predicted outputs to the expected outputs and calculate the error.<br>\n",
        "Calculate the derivatives of the error with respect to the network weights.\n",
        "Adjust the weights to minimize the error.<br>\n",
        "Repeat.<br>"
      ]
    },
    {
      "cell_type": "code",
      "metadata": {
        "id": "RMVxkYqA49sQ"
      },
      "source": [
        ""
      ],
      "execution_count": null,
      "outputs": []
    }
  ]
}